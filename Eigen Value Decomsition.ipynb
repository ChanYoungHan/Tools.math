{
 "cells": [
  {
   "cell_type": "code",
   "execution_count": 1,
   "metadata": {},
   "outputs": [],
   "source": [
    "import numpy as np"
   ]
  },
  {
   "cell_type": "markdown",
   "metadata": {},
   "source": [
    "## 고유값분해"
   ]
  },
  {
   "cell_type": "markdown",
   "metadata": {},
   "source": [
    "### 고유값 분해의 기본"
   ]
  },
  {
   "cell_type": "code",
   "execution_count": 2,
   "metadata": {},
   "outputs": [
    {
     "name": "stdout",
     "output_type": "stream",
     "text": [
      "[[ 1.2 -0.5]\n",
      " [-1.5  1.7]]\n"
     ]
    }
   ],
   "source": [
    "A = np.array([1.2, -0.5, -1.5, 1.7]).reshape((2,2))\n",
    "print(A)"
   ]
  },
  {
   "cell_type": "code",
   "execution_count": 3,
   "metadata": {},
   "outputs": [
    {
     "name": "stdout",
     "output_type": "stream",
     "text": [
      "[0.54861218 2.35138782]\n",
      "[[-0.60889368  0.3983218 ]\n",
      " [-0.79325185 -0.91724574]]\n"
     ]
    }
   ],
   "source": [
    "W, V = np.linalg.eig(A)\n",
    "print(W)\n",
    "print(V)"
   ]
  },
  {
   "cell_type": "code",
   "execution_count": 4,
   "metadata": {},
   "outputs": [
    {
     "name": "stdout",
     "output_type": "stream",
     "text": [
      "[[-1.04891063 -0.45549841]\n",
      " [ 0.90711819 -0.69629656]]\n",
      "[[0.54861218 0.        ]\n",
      " [0.         2.35138782]]\n"
     ]
    }
   ],
   "source": [
    "V_inv = np.linalg.inv(V)\n",
    "print(V_inv)\n",
    "W_dig = np.diag(W)\n",
    "print(W_dig)"
   ]
  },
  {
   "cell_type": "code",
   "execution_count": 5,
   "metadata": {},
   "outputs": [
    {
     "data": {
      "text/plain": [
       "array([[ 1.2, -0.5],\n",
       "       [-1.5,  1.7]])"
      ]
     },
     "execution_count": 5,
     "metadata": {},
     "output_type": "execute_result"
    }
   ],
   "source": [
    "V@W_dig@V_inv"
   ]
  },
  {
   "cell_type": "code",
   "execution_count": 6,
   "metadata": {},
   "outputs": [
    {
     "data": {
      "text/plain": [
       "array([[ 1.2, -0.5],\n",
       "       [-1.5,  1.7]])"
      ]
     },
     "execution_count": 6,
     "metadata": {},
     "output_type": "execute_result"
    }
   ],
   "source": [
    "V.dot(W_dig).dot(V_inv)"
   ]
  },
  {
   "cell_type": "code",
   "execution_count": 7,
   "metadata": {},
   "outputs": [
    {
     "data": {
      "text/plain": [
       "array([[ 1.2, -0.5],\n",
       "       [-1.5,  1.7]])"
      ]
     },
     "execution_count": 7,
     "metadata": {},
     "output_type": "execute_result"
    }
   ],
   "source": [
    "np.matmul(V, np.matmul(W_dig, V_inv))"
   ]
  },
  {
   "cell_type": "markdown",
   "metadata": {},
   "source": [
    "### 회전변환의 고유값분해"
   ]
  },
  {
   "cell_type": "code",
   "execution_count": 8,
   "metadata": {},
   "outputs": [],
   "source": [
    "from rotation_matrix import RoationMatrix"
   ]
  },
  {
   "cell_type": "code",
   "execution_count": 11,
   "metadata": {},
   "outputs": [
    {
     "name": "stdout",
     "output_type": "stream",
     "text": [
      "[[ 0.8660254 -0.5      ]\n",
      " [ 0.5        0.8660254]]\n"
     ]
    }
   ],
   "source": [
    "rot = RoationMatrix()\n",
    "theta = np.deg2rad(30)\n",
    "rot2d_theta = rot.rot2D(theta)\n",
    "print(rot2d_theta)"
   ]
  },
  {
   "cell_type": "code",
   "execution_count": 12,
   "metadata": {},
   "outputs": [
    {
     "name": "stdout",
     "output_type": "stream",
     "text": [
      "[0.8660254+0.5j 0.8660254-0.5j]\n",
      "[[0.70710678+0.j         0.70710678-0.j        ]\n",
      " [0.        -0.70710678j 0.        +0.70710678j]]\n"
     ]
    }
   ],
   "source": [
    "W, V = np.linalg.eig(rot2d_theta)\n",
    "print(W)\n",
    "print(V)"
   ]
  },
  {
   "cell_type": "code",
   "execution_count": null,
   "metadata": {},
   "outputs": [],
   "source": []
  },
  {
   "cell_type": "code",
   "execution_count": null,
   "metadata": {},
   "outputs": [],
   "source": []
  },
  {
   "cell_type": "code",
   "execution_count": 20,
   "metadata": {},
   "outputs": [],
   "source": []
  },
  {
   "cell_type": "code",
   "execution_count": null,
   "metadata": {},
   "outputs": [],
   "source": []
  }
 ],
 "metadata": {
  "kernelspec": {
   "display_name": "Python 3",
   "language": "python",
   "name": "python3"
  },
  "language_info": {
   "codemirror_mode": {
    "name": "ipython",
    "version": 3
   },
   "file_extension": ".py",
   "mimetype": "text/x-python",
   "name": "python",
   "nbconvert_exporter": "python",
   "pygments_lexer": "ipython3",
   "version": "3.7.4"
  }
 },
 "nbformat": 4,
 "nbformat_minor": 2
}
